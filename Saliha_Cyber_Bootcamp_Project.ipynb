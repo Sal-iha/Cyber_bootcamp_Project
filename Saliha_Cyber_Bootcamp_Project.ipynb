{
  "nbformat": 4,
  "nbformat_minor": 0,
  "metadata": {
    "colab": {
      "name": "Saliha_Cyber_Bootcamp_Project.ipynb",
      "provenance": [],
      "collapsed_sections": []
    },
    "kernelspec": {
      "name": "python3",
      "display_name": "Python 3"
    },
    "language_info": {
      "name": "python"
    }
  },
  "cells": [
    {
      "cell_type": "code",
      "metadata": {
        "colab": {
          "base_uri": "https://localhost:8080/"
        },
        "id": "LGsKSvUtTRUC",
        "outputId": "ff9167ba-33bf-44d4-cceb-6586f04d8880"
      },
      "source": [
        "#PROJECT SUBMISSION FOR CYBER SECURITY BOOT CAMP\n",
        "# WEATHER STATUS OF A CITY WITH THIRD PARTY API IN PYTHON AND GETTING INFO IN TXT FILE\n",
        "# DONE BY \"SALIHA A S\"\n",
        "\n",
        "import requests\n",
        "import sys\n",
        "from datetime import datetime\n",
        "\n",
        "api_key = 'b88a18a22045d683096f960d4cabee26'\n",
        "location = input(\"Enter the city name: \")\n",
        "\n",
        "complete_api_link = \"https://api.openweathermap.org/data/2.5/weather?q=\"+location+\"&appid=\"+api_key\n",
        "api_link = requests.get(complete_api_link)\n",
        "api_data = api_link.json()\n",
        "\n",
        "#create variables to store and display data\n",
        "temp_city = ((api_data['main']['temp']) - 273.15)\n",
        "weather_desc = api_data['weather'][0]['description']\n",
        "hmdt = api_data['main']['humidity']\n",
        "wind_spd = api_data['wind']['speed']\n",
        "date_time = datetime.now().strftime(\"%d %b %Y | %I:%M:%S %p\")\n",
        "\n",
        "print (\"-------------------------------------------------------------\")\n",
        "print (\"Weather Status for - {}  || {}\".format(location.upper(), date_time))\n",
        "print (\"-------------------------------------------------------------\")\n",
        "\n",
        "print (\"Current temperature is: {:.2f} deg C\".format(temp_city))\n",
        "print (\"Current weather desc  :\",weather_desc)\n",
        "print (\"Current Humidity      :\",hmdt, '%')\n",
        "print (\"Current wind speed    :\",wind_spd ,'kmph')\n",
        "\n",
        "# For txt file\n",
        "original_stdout = sys.stdout\n",
        "with open('Weather_Status.txt', 'w') as f:\n",
        "    sys.stdout =f\n",
        "    print(\"-------------------------------------------------------------\")\n",
        "    print(\"Weather Status for - {}  || {}\".format(location.upper(), date_time))\n",
        "    print(\"-------------------------------------------------------------\")\n",
        "    print(\"\\n Current temperature is: {:.2f} deg C\".format(temp_city))\n",
        "    print(\"Current weather desc  :\",weather_desc)\n",
        "    print(\"Current Humidity      :\",hmdt, '%')\n",
        "    print(\"Current wind speed    :\",wind_spd ,'kmph')\n",
        "    print(\"You have received the weather status of the entered city\")\n",
        "    print(\"Thank You and Have a Nice Day\")\n",
        "\n",
        "sys.stdout = original_stdout\n"
      ],
      "execution_count": null,
      "outputs": [
        {
          "output_type": "stream",
          "text": [
            "Enter the city name: trivandrum\n",
            "-------------------------------------------------------------\n",
            "Weather Status for - TRIVANDRUM  || 22 Jun 2021 | 06:29:44 AM\n",
            "-------------------------------------------------------------\n",
            "Current temperature is: 29.99 deg C\n",
            "Current weather desc  : haze\n",
            "Current Humidity      : 74 %\n",
            "Current wind speed    : 5.14 kmph\n"
          ],
          "name": "stdout"
        }
      ]
    }
  ]
}